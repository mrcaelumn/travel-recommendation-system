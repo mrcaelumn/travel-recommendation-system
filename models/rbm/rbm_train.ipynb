{
 "cells": [
  {
   "cell_type": "code",
   "execution_count": 1,
   "id": "8e64ea30-99ea-4dae-86ad-23c42e949b29",
   "metadata": {},
   "outputs": [],
   "source": [
    "import numpy as np\n",
    "import pandas as pd\n",
    "\n",
    "import torch\n",
    "import torch.nn as nn                 # the torch module to implement the Neural Networks\n",
    "import torch.nn.parallel              # for parallel computations\n",
    "import torch.optim as optim           # for optimizers\n",
    "import torch.utils.data               # tools\n",
    "from torch.autograd import Variable   # for Stochastic Gradient Descent\n",
    "from rbm_model import RBM"
   ]
  },
  {
   "cell_type": "code",
   "execution_count": 2,
   "id": "7e386245-67e0-4cc8-bb7d-b2b889b7dc95",
   "metadata": {},
   "outputs": [
    {
     "data": {
      "text/html": [
       "<div>\n",
       "<style scoped>\n",
       "    .dataframe tbody tr th:only-of-type {\n",
       "        vertical-align: middle;\n",
       "    }\n",
       "\n",
       "    .dataframe tbody tr th {\n",
       "        vertical-align: top;\n",
       "    }\n",
       "\n",
       "    .dataframe thead th {\n",
       "        text-align: right;\n",
       "    }\n",
       "</style>\n",
       "<table border=\"1\" class=\"dataframe\">\n",
       "  <thead>\n",
       "    <tr style=\"text-align: right;\">\n",
       "      <th></th>\n",
       "      <th>0</th>\n",
       "      <th>1</th>\n",
       "      <th>2</th>\n",
       "    </tr>\n",
       "  </thead>\n",
       "  <tbody>\n",
       "    <tr>\n",
       "      <th>0</th>\n",
       "      <td>1</td>\n",
       "      <td>Toy Story (1995)</td>\n",
       "      <td>Animation|Children's|Comedy</td>\n",
       "    </tr>\n",
       "    <tr>\n",
       "      <th>1</th>\n",
       "      <td>2</td>\n",
       "      <td>Jumanji (1995)</td>\n",
       "      <td>Adventure|Children's|Fantasy</td>\n",
       "    </tr>\n",
       "    <tr>\n",
       "      <th>2</th>\n",
       "      <td>3</td>\n",
       "      <td>Grumpier Old Men (1995)</td>\n",
       "      <td>Comedy|Romance</td>\n",
       "    </tr>\n",
       "    <tr>\n",
       "      <th>3</th>\n",
       "      <td>4</td>\n",
       "      <td>Waiting to Exhale (1995)</td>\n",
       "      <td>Comedy|Drama</td>\n",
       "    </tr>\n",
       "    <tr>\n",
       "      <th>4</th>\n",
       "      <td>5</td>\n",
       "      <td>Father of the Bride Part II (1995)</td>\n",
       "      <td>Comedy</td>\n",
       "    </tr>\n",
       "  </tbody>\n",
       "</table>\n",
       "</div>"
      ],
      "text/plain": [
       "   0                                   1                             2\n",
       "0  1                    Toy Story (1995)   Animation|Children's|Comedy\n",
       "1  2                      Jumanji (1995)  Adventure|Children's|Fantasy\n",
       "2  3             Grumpier Old Men (1995)                Comedy|Romance\n",
       "3  4            Waiting to Exhale (1995)                  Comedy|Drama\n",
       "4  5  Father of the Bride Part II (1995)                        Comedy"
      ]
     },
     "execution_count": 2,
     "metadata": {},
     "output_type": "execute_result"
    }
   ],
   "source": [
    "movies = pd.read_csv('data/ml-1m/movies.dat', sep = '::', \n",
    "                    header = None, engine = 'python', encoding = 'latin-1')\n",
    "movies.head()"
   ]
  },
  {
   "cell_type": "code",
   "execution_count": 3,
   "id": "25ba4906-692f-46d7-90d0-2cde00a39426",
   "metadata": {},
   "outputs": [
    {
     "data": {
      "text/html": [
       "<div>\n",
       "<style scoped>\n",
       "    .dataframe tbody tr th:only-of-type {\n",
       "        vertical-align: middle;\n",
       "    }\n",
       "\n",
       "    .dataframe tbody tr th {\n",
       "        vertical-align: top;\n",
       "    }\n",
       "\n",
       "    .dataframe thead th {\n",
       "        text-align: right;\n",
       "    }\n",
       "</style>\n",
       "<table border=\"1\" class=\"dataframe\">\n",
       "  <thead>\n",
       "    <tr style=\"text-align: right;\">\n",
       "      <th></th>\n",
       "      <th>0</th>\n",
       "      <th>1</th>\n",
       "      <th>2</th>\n",
       "      <th>3</th>\n",
       "      <th>4</th>\n",
       "    </tr>\n",
       "  </thead>\n",
       "  <tbody>\n",
       "    <tr>\n",
       "      <th>0</th>\n",
       "      <td>1</td>\n",
       "      <td>F</td>\n",
       "      <td>1</td>\n",
       "      <td>10</td>\n",
       "      <td>48067</td>\n",
       "    </tr>\n",
       "    <tr>\n",
       "      <th>1</th>\n",
       "      <td>2</td>\n",
       "      <td>M</td>\n",
       "      <td>56</td>\n",
       "      <td>16</td>\n",
       "      <td>70072</td>\n",
       "    </tr>\n",
       "    <tr>\n",
       "      <th>2</th>\n",
       "      <td>3</td>\n",
       "      <td>M</td>\n",
       "      <td>25</td>\n",
       "      <td>15</td>\n",
       "      <td>55117</td>\n",
       "    </tr>\n",
       "    <tr>\n",
       "      <th>3</th>\n",
       "      <td>4</td>\n",
       "      <td>M</td>\n",
       "      <td>45</td>\n",
       "      <td>7</td>\n",
       "      <td>02460</td>\n",
       "    </tr>\n",
       "    <tr>\n",
       "      <th>4</th>\n",
       "      <td>5</td>\n",
       "      <td>M</td>\n",
       "      <td>25</td>\n",
       "      <td>20</td>\n",
       "      <td>55455</td>\n",
       "    </tr>\n",
       "  </tbody>\n",
       "</table>\n",
       "</div>"
      ],
      "text/plain": [
       "   0  1   2   3      4\n",
       "0  1  F   1  10  48067\n",
       "1  2  M  56  16  70072\n",
       "2  3  M  25  15  55117\n",
       "3  4  M  45   7  02460\n",
       "4  5  M  25  20  55455"
      ]
     },
     "execution_count": 3,
     "metadata": {},
     "output_type": "execute_result"
    }
   ],
   "source": [
    "users = pd.read_csv('data/ml-1m/users.dat', sep = '::', \n",
    "                    header = None, engine = 'python', encoding = 'latin-1')\n",
    "users.head()"
   ]
  },
  {
   "cell_type": "code",
   "execution_count": 4,
   "id": "a1b0fe3a-3be4-49d6-b19e-95eac24d5f4e",
   "metadata": {},
   "outputs": [
    {
     "data": {
      "text/html": [
       "<div>\n",
       "<style scoped>\n",
       "    .dataframe tbody tr th:only-of-type {\n",
       "        vertical-align: middle;\n",
       "    }\n",
       "\n",
       "    .dataframe tbody tr th {\n",
       "        vertical-align: top;\n",
       "    }\n",
       "\n",
       "    .dataframe thead th {\n",
       "        text-align: right;\n",
       "    }\n",
       "</style>\n",
       "<table border=\"1\" class=\"dataframe\">\n",
       "  <thead>\n",
       "    <tr style=\"text-align: right;\">\n",
       "      <th></th>\n",
       "      <th>0</th>\n",
       "      <th>1</th>\n",
       "      <th>2</th>\n",
       "      <th>3</th>\n",
       "    </tr>\n",
       "  </thead>\n",
       "  <tbody>\n",
       "    <tr>\n",
       "      <th>0</th>\n",
       "      <td>1</td>\n",
       "      <td>1193</td>\n",
       "      <td>5</td>\n",
       "      <td>978300760</td>\n",
       "    </tr>\n",
       "    <tr>\n",
       "      <th>1</th>\n",
       "      <td>1</td>\n",
       "      <td>661</td>\n",
       "      <td>3</td>\n",
       "      <td>978302109</td>\n",
       "    </tr>\n",
       "    <tr>\n",
       "      <th>2</th>\n",
       "      <td>1</td>\n",
       "      <td>914</td>\n",
       "      <td>3</td>\n",
       "      <td>978301968</td>\n",
       "    </tr>\n",
       "    <tr>\n",
       "      <th>3</th>\n",
       "      <td>1</td>\n",
       "      <td>3408</td>\n",
       "      <td>4</td>\n",
       "      <td>978300275</td>\n",
       "    </tr>\n",
       "    <tr>\n",
       "      <th>4</th>\n",
       "      <td>1</td>\n",
       "      <td>2355</td>\n",
       "      <td>5</td>\n",
       "      <td>978824291</td>\n",
       "    </tr>\n",
       "  </tbody>\n",
       "</table>\n",
       "</div>"
      ],
      "text/plain": [
       "   0     1  2          3\n",
       "0  1  1193  5  978300760\n",
       "1  1   661  3  978302109\n",
       "2  1   914  3  978301968\n",
       "3  1  3408  4  978300275\n",
       "4  1  2355  5  978824291"
      ]
     },
     "execution_count": 4,
     "metadata": {},
     "output_type": "execute_result"
    }
   ],
   "source": [
    "ratings = pd.read_csv('data/ml-1m/ratings.dat', sep = '::', \n",
    "                    header = None, engine = 'python', encoding = 'latin-1')\n",
    "ratings.head()"
   ]
  },
  {
   "cell_type": "code",
   "execution_count": 5,
   "id": "bad7619a-88dd-4eac-a927-a8ec77b520cc",
   "metadata": {},
   "outputs": [
    {
     "data": {
      "text/html": [
       "<div>\n",
       "<style scoped>\n",
       "    .dataframe tbody tr th:only-of-type {\n",
       "        vertical-align: middle;\n",
       "    }\n",
       "\n",
       "    .dataframe tbody tr th {\n",
       "        vertical-align: top;\n",
       "    }\n",
       "\n",
       "    .dataframe thead th {\n",
       "        text-align: right;\n",
       "    }\n",
       "</style>\n",
       "<table border=\"1\" class=\"dataframe\">\n",
       "  <thead>\n",
       "    <tr style=\"text-align: right;\">\n",
       "      <th></th>\n",
       "      <th>1</th>\n",
       "      <th>1.1</th>\n",
       "      <th>5</th>\n",
       "      <th>874965758</th>\n",
       "    </tr>\n",
       "  </thead>\n",
       "  <tbody>\n",
       "    <tr>\n",
       "      <th>0</th>\n",
       "      <td>1</td>\n",
       "      <td>2</td>\n",
       "      <td>3</td>\n",
       "      <td>876893171</td>\n",
       "    </tr>\n",
       "    <tr>\n",
       "      <th>1</th>\n",
       "      <td>1</td>\n",
       "      <td>3</td>\n",
       "      <td>4</td>\n",
       "      <td>878542960</td>\n",
       "    </tr>\n",
       "    <tr>\n",
       "      <th>2</th>\n",
       "      <td>1</td>\n",
       "      <td>4</td>\n",
       "      <td>3</td>\n",
       "      <td>876893119</td>\n",
       "    </tr>\n",
       "    <tr>\n",
       "      <th>3</th>\n",
       "      <td>1</td>\n",
       "      <td>5</td>\n",
       "      <td>3</td>\n",
       "      <td>889751712</td>\n",
       "    </tr>\n",
       "    <tr>\n",
       "      <th>4</th>\n",
       "      <td>1</td>\n",
       "      <td>7</td>\n",
       "      <td>4</td>\n",
       "      <td>875071561</td>\n",
       "    </tr>\n",
       "  </tbody>\n",
       "</table>\n",
       "</div>"
      ],
      "text/plain": [
       "   1  1.1  5  874965758\n",
       "0  1    2  3  876893171\n",
       "1  1    3  4  878542960\n",
       "2  1    4  3  876893119\n",
       "3  1    5  3  889751712\n",
       "4  1    7  4  875071561"
      ]
     },
     "execution_count": 5,
     "metadata": {},
     "output_type": "execute_result"
    }
   ],
   "source": [
    "train_set = pd.read_csv('data/ml=100k/u1.base', delimiter = '\\t') \n",
    "train_set.head()"
   ]
  },
  {
   "cell_type": "code",
   "execution_count": 6,
   "id": "58019aad-b20e-4f6e-8c1d-9e0223f8a8e4",
   "metadata": {},
   "outputs": [
    {
     "data": {
      "text/plain": [
       "dtype('int64')"
      ]
     },
     "execution_count": 6,
     "metadata": {},
     "output_type": "execute_result"
    }
   ],
   "source": [
    "train_set = np.array(train_set, dtype = 'int')\n",
    "train_set.dtype"
   ]
  },
  {
   "cell_type": "code",
   "execution_count": 7,
   "id": "009c036b-684f-449d-923b-ce6f0ba36280",
   "metadata": {},
   "outputs": [
    {
     "data": {
      "text/plain": [
       "dtype('int64')"
      ]
     },
     "execution_count": 7,
     "metadata": {},
     "output_type": "execute_result"
    }
   ],
   "source": [
    "test_set = pd.read_csv('data/ml=100k/u1.test', delimiter = '\\t') \n",
    "test_set = np.array(test_set, dtype = 'int')\n",
    "test_set.dtype"
   ]
  },
  {
   "cell_type": "code",
   "execution_count": 8,
   "id": "bd29365d-05eb-4502-bd61-a5985b084a62",
   "metadata": {},
   "outputs": [
    {
     "name": "stdout",
     "output_type": "stream",
     "text": [
      "There are 943 Users in Training Set\n",
      "There are 1682 Movies in Training Set\n",
      "There are 462 Users in Testing Set\n",
      "There are 1591 Movies in Testing Set\n"
     ]
    }
   ],
   "source": [
    "print('There are', train_set[:,0].max(), 'Users in Training Set')\n",
    "print('There are', train_set[:,1].max(), 'Movies in Training Set')\n",
    "print('There are', test_set[:,0].max(), 'Users in Testing Set')\n",
    "print('There are', test_set[:,1].max(), 'Movies in Testing Set')"
   ]
  },
  {
   "cell_type": "code",
   "execution_count": 9,
   "id": "c9e03d2e-7c2c-4d70-b09c-5b43badacaa8",
   "metadata": {},
   "outputs": [
    {
     "name": "stdout",
     "output_type": "stream",
     "text": [
      "The total number of Users are 943 and total number of Movies are 1682\n"
     ]
    }
   ],
   "source": [
    "t_users = int(max(max(train_set[:,0]), max(test_set[:,0])))\n",
    "t_movies = int(max(max(train_set[:,1]), max(test_set[:,1])))\n",
    "\n",
    "print(f'The total number of Users are {t_users} and total number of Movies are {t_movies}')"
   ]
  },
  {
   "cell_type": "code",
   "execution_count": 10,
   "id": "4f360c47-73cd-4fa9-ad4e-628ce3f7c18f",
   "metadata": {},
   "outputs": [],
   "source": [
    "def convert(dataset):\n",
    "    new_data = []                               \n",
    "    for user_id in range(1, (t_users + 1)):       \n",
    "        movie_ids = dataset[:,1][dataset[:,0]==user_id]\n",
    "        rating_ids = dataset[:,2][dataset[:,0]==user_id]\n",
    "        ratings = np.zeros(t_movies)\n",
    "        ratings[movie_ids - 1] = rating_ids \n",
    "        new_data.append(list(ratings))\n",
    "    \n",
    "    return new_data"
   ]
  },
  {
   "cell_type": "code",
   "execution_count": 11,
   "id": "4b2ae5ef-86a2-4ecb-978b-7cda4e5c6b6d",
   "metadata": {},
   "outputs": [],
   "source": [
    "# applying the function above to training and test set\n",
    "train_set = convert(train_set)\n",
    "test_set = convert(test_set)"
   ]
  },
  {
   "cell_type": "code",
   "execution_count": 12,
   "id": "ad8a8d90-a77e-4765-9000-bfa0925b2111",
   "metadata": {},
   "outputs": [],
   "source": [
    "train_set = torch.FloatTensor(train_set)\n",
    "test_set = torch.FloatTensor(test_set)"
   ]
  },
  {
   "cell_type": "code",
   "execution_count": 13,
   "id": "8abe8ebc-0726-4677-96ee-ccd42f64b07b",
   "metadata": {},
   "outputs": [],
   "source": [
    "# first we replace all the zeros in train set by -1\n",
    "# coz all the zeros are the non-existing ratings for a movie by a user\n",
    "# now the new ratings are going to be 0(liked) and 1(disliked), hence the orignal zeros must now have the new value as -1\n",
    "# thus, -1 will mean there wasn't a rating for a particular movie by a particular user\n",
    "\n",
    "train_set[train_set == 0] = -1            # movies not rated will be represented by -1\n",
    "\n",
    "# now we will change orignal ratings of 1 and 2 to 0, i.e. if the movie is rated 1 or 2, means that user disliked the movie\n",
    "# also the 'or' logic cannot be used with tensors thus we do the operation for 1 and 2 seperately\n",
    "train_set[train_set == 1] = 0\n",
    "train_set[train_set == 2] = 0\n",
    "\n",
    "# the original ratings greater than 3 will be considered as the user like the movie, hence we represent them by 1\n",
    "train_set[train_set >= 3] = 1\n",
    "\n",
    "\n",
    "\n",
    "# doing the same for test set\n",
    "test_set[test_set == 0] = -1\n",
    "test_set[test_set == 1] = 0\n",
    "test_set[test_set == 2] = 0\n",
    "test_set[test_set >= 3] = 1"
   ]
  },
  {
   "cell_type": "code",
   "execution_count": 14,
   "id": "50c2ee34-d7ca-4d20-b336-0d3a3c8330f0",
   "metadata": {},
   "outputs": [
    {
     "name": "stdout",
     "output_type": "stream",
     "text": [
      "1682 100\n"
     ]
    }
   ],
   "source": [
    "nv = len(train_set[0])      # no. of visible nodes\n",
    "nh = 100                    # the features to be detected by RBM, hence can define any relevant number\n",
    "batch_size = 100\n",
    "print(nv, nh)\n",
    "rbm = RBM(nv, nh)"
   ]
  },
  {
   "cell_type": "code",
   "execution_count": 15,
   "id": "b12bd66e-261b-494b-9252-3eb461eb12d4",
   "metadata": {},
   "outputs": [
    {
     "name": "stdout",
     "output_type": "stream",
     "text": [
      "epoch: 1 loss: tensor(0.3404)\n",
      "epoch: 2 loss: tensor(0.2521)\n",
      "epoch: 3 loss: tensor(0.2500)\n",
      "epoch: 4 loss: tensor(0.2437)\n",
      "epoch: 5 loss: tensor(0.2474)\n",
      "epoch: 6 loss: tensor(0.2481)\n",
      "epoch: 7 loss: tensor(0.2499)\n",
      "epoch: 8 loss: tensor(0.2453)\n",
      "epoch: 9 loss: tensor(0.2502)\n",
      "epoch: 10 loss: tensor(0.2453)\n"
     ]
    }
   ],
   "source": [
    "nb_epoch = 10       # 10 because as we have a binary outcome and less data, the model will converge quickly\n",
    "\n",
    "# creating a for loop to iterate through these epochs and in each epoch all observations go in the network \n",
    "# and then updating the weights after observations of each batch that passed through the network\n",
    "# and then we get our final visible nodes with new ratings for the movies that were not orignally rated\n",
    "for epoch in range(1, nb_epoch+1):\n",
    "    train_loss = 0                      \n",
    "    s = 0.                          \n",
    "    \n",
    "    for id_user in range(0, t_users - batch_size, batch_size):\n",
    "        vk = train_set[id_user:id_user+batch_size]\n",
    "        v0 = train_set[id_user:id_user+batch_size]\n",
    "        ph0,_ = rbm.sample_h(v0)\n",
    "        \n",
    "        for k in range(10):\n",
    "            _,hk = rbm.sample_h(vk)\n",
    "            _,vk = rbm.sample_v(hk)\n",
    "            vk[v0<0] = v0[v0<0] \n",
    "    \n",
    "        phk,_ = rbm.sample_h(vk)\n",
    "        rbm.train(v0, vk, ph0, phk)\n",
    "        \n",
    "        train_loss += torch.mean(torch.abs(v0[v0 >= 0] - vk[v0 >= 0]))\n",
    "        s += 1.\n",
    "        \n",
    "    print('epoch: ' + str(epoch) + ' loss: ' + str(train_loss/s) )"
   ]
  },
  {
   "cell_type": "code",
   "execution_count": 16,
   "id": "73592b14-2785-4297-b0c5-068651290a73",
   "metadata": {},
   "outputs": [],
   "source": [
    "model_path = \"weight/rbm_weight_model.pth\"\n",
    "# torch.save(rbm, model_path)\n",
    "model_scripted = torch.jit.script(rbm) # Export to TorchScript\n",
    "model_scripted.save(model_path) # Save"
   ]
  },
  {
   "cell_type": "code",
   "execution_count": 17,
   "id": "71204491-332f-4b3b-8ece-bc66104d2328",
   "metadata": {},
   "outputs": [],
   "source": [
    "# for param_tensor in rbm.state_dict():\n",
    "#     print(param_tensor, \"\\t\", rbm.state_dict()[param_tensor].size())"
   ]
  },
  {
   "cell_type": "code",
   "execution_count": 18,
   "id": "9a624441-a6ad-4497-b302-af43d74c7732",
   "metadata": {},
   "outputs": [],
   "source": [
    "rbm_new = torch.jit.load(model_path)"
   ]
  },
  {
   "cell_type": "code",
   "execution_count": 19,
   "id": "6003b868-bd6c-4209-9dc7-7d65caf0c70f",
   "metadata": {},
   "outputs": [
    {
     "name": "stdout",
     "output_type": "stream",
     "text": [
      "test_loss: tensor(0.2566)\n"
     ]
    }
   ],
   "source": [
    "test_loss = 0                      \n",
    "s = 0.                          \n",
    "\n",
    "for id_user in range(t_users):           \n",
    "    v = train_set[id_user:id_user+1]      \n",
    "    vt = test_set[id_user:id_user+1]      \n",
    "    \n",
    "    if len(vt[vt>=0]) > 0:           \n",
    "        _,h = rbm_new.sample_h(v)\n",
    "        _,v = rbm_new.sample_v(h)\n",
    "        # print(h, v)\n",
    "        test_loss += torch.mean(torch.abs(vt[vt >= 0] - v[vt >= 0]))\n",
    "        s += 1.\n",
    "\n",
    "    # print(id_user, v, vt)\n",
    "print('test_loss: ' + str(test_loss/s) )"
   ]
  },
  {
   "cell_type": "code",
   "execution_count": 20,
   "id": "4d24b7dc-70df-40e8-a4aa-9cc58519ec0a",
   "metadata": {},
   "outputs": [
    {
     "data": {
      "text/html": [
       "<div>\n",
       "<style scoped>\n",
       "    .dataframe tbody tr th:only-of-type {\n",
       "        vertical-align: middle;\n",
       "    }\n",
       "\n",
       "    .dataframe tbody tr th {\n",
       "        vertical-align: top;\n",
       "    }\n",
       "\n",
       "    .dataframe thead th {\n",
       "        text-align: right;\n",
       "    }\n",
       "</style>\n",
       "<table border=\"1\" class=\"dataframe\">\n",
       "  <thead>\n",
       "    <tr style=\"text-align: right;\">\n",
       "      <th></th>\n",
       "      <th>0</th>\n",
       "      <th>1</th>\n",
       "      <th>2</th>\n",
       "      <th>3</th>\n",
       "      <th>4</th>\n",
       "      <th>5</th>\n",
       "      <th>6</th>\n",
       "      <th>7</th>\n",
       "      <th>8</th>\n",
       "      <th>9</th>\n",
       "      <th>...</th>\n",
       "      <th>1672</th>\n",
       "      <th>1673</th>\n",
       "      <th>1674</th>\n",
       "      <th>1675</th>\n",
       "      <th>1676</th>\n",
       "      <th>1677</th>\n",
       "      <th>1678</th>\n",
       "      <th>1679</th>\n",
       "      <th>1680</th>\n",
       "      <th>1681</th>\n",
       "    </tr>\n",
       "  </thead>\n",
       "  <tbody>\n",
       "    <tr>\n",
       "      <th>1</th>\n",
       "      <td>Toy Story (1995)</td>\n",
       "      <td>GoldenEye (1995)</td>\n",
       "      <td>Four Rooms (1995)</td>\n",
       "      <td>Get Shorty (1995)</td>\n",
       "      <td>Copycat (1995)</td>\n",
       "      <td>Shanghai Triad (Yao a yao yao dao waipo qiao) ...</td>\n",
       "      <td>Twelve Monkeys (1995)</td>\n",
       "      <td>Babe (1995)</td>\n",
       "      <td>Dead Man Walking (1995)</td>\n",
       "      <td>Richard III (1995)</td>\n",
       "      <td>...</td>\n",
       "      <td>Mirage (1995)</td>\n",
       "      <td>Mamma Roma (1962)</td>\n",
       "      <td>Sunchaser, The (1996)</td>\n",
       "      <td>War at Home, The (1996)</td>\n",
       "      <td>Sweet Nothing (1995)</td>\n",
       "      <td>Mat' i syn (1997)</td>\n",
       "      <td>B. Monkey (1998)</td>\n",
       "      <td>Sliding Doors (1998)</td>\n",
       "      <td>You So Crazy (1994)</td>\n",
       "      <td>Scream of Stone (Schrei aus Stein) (1991)</td>\n",
       "    </tr>\n",
       "  </tbody>\n",
       "</table>\n",
       "<p>1 rows × 1682 columns</p>\n",
       "</div>"
      ],
      "text/plain": [
       "               0                 1                  2                  3     \\\n",
       "1  Toy Story (1995)  GoldenEye (1995)  Four Rooms (1995)  Get Shorty (1995)   \n",
       "\n",
       "             4                                                  5     \\\n",
       "1  Copycat (1995)  Shanghai Triad (Yao a yao yao dao waipo qiao) ...   \n",
       "\n",
       "                    6            7                        8     \\\n",
       "1  Twelve Monkeys (1995)  Babe (1995)  Dead Man Walking (1995)   \n",
       "\n",
       "                 9     ...           1672               1673  \\\n",
       "1  Richard III (1995)  ...  Mirage (1995)  Mamma Roma (1962)   \n",
       "\n",
       "                    1674                     1675                  1676  \\\n",
       "1  Sunchaser, The (1996)  War at Home, The (1996)  Sweet Nothing (1995)   \n",
       "\n",
       "                1677              1678                  1679  \\\n",
       "1  Mat' i syn (1997)  B. Monkey (1998)  Sliding Doors (1998)   \n",
       "\n",
       "                  1680                                       1681  \n",
       "1  You So Crazy (1994)  Scream of Stone (Schrei aus Stein) (1991)  \n",
       "\n",
       "[1 rows x 1682 columns]"
      ]
     },
     "execution_count": 20,
     "metadata": {},
     "output_type": "execute_result"
    }
   ],
   "source": [
    "movies = pd.read_csv('data/ml=100k/u.item', sep = '|', engine = 'python', encoding = 'latin-1', header = None)\n",
    "movie_title = movies.iloc[:t_movies, 1:2]\n",
    "movie_title = pd.DataFrame.transpose(movie_title)\n",
    "movie_title"
   ]
  },
  {
   "cell_type": "code",
   "execution_count": 21,
   "id": "65a83143-1888-4121-a0c9-cee52132519e",
   "metadata": {},
   "outputs": [
    {
     "data": {
      "text/plain": [
       "tensor([[ 1., -1., -1.,  ..., -1., -1., -1.]])"
      ]
     },
     "execution_count": 21,
     "metadata": {},
     "output_type": "execute_result"
    }
   ],
   "source": [
    "user_id = 150\n",
    "user_input = Variable(test_set[user_id - 1]).unsqueeze(0)\n",
    "user_input"
   ]
  },
  {
   "cell_type": "code",
   "execution_count": 22,
   "id": "ed70779f-3dd5-4565-89a1-cb463b58cf03",
   "metadata": {},
   "outputs": [
    {
     "data": {
      "text/plain": [
       "array([[1., 1., 1., ..., 0., 1., 0.]], dtype=float32)"
      ]
     },
     "execution_count": 22,
     "metadata": {},
     "output_type": "execute_result"
    }
   ],
   "source": [
    "output = rbm_new.predict(user_input)\n",
    "output = output.data.numpy()\n",
    "output"
   ]
  },
  {
   "cell_type": "code",
   "execution_count": 23,
   "id": "9cc4251b-bc96-4d5c-9b52-6b3b1d4a5491",
   "metadata": {},
   "outputs": [
    {
     "data": {
      "text/html": [
       "<div>\n",
       "<style scoped>\n",
       "    .dataframe tbody tr th:only-of-type {\n",
       "        vertical-align: middle;\n",
       "    }\n",
       "\n",
       "    .dataframe tbody tr th {\n",
       "        vertical-align: top;\n",
       "    }\n",
       "\n",
       "    .dataframe thead th {\n",
       "        text-align: right;\n",
       "    }\n",
       "</style>\n",
       "<table border=\"1\" class=\"dataframe\">\n",
       "  <thead>\n",
       "    <tr style=\"text-align: right;\">\n",
       "      <th></th>\n",
       "      <th>Recommended Movies</th>\n",
       "    </tr>\n",
       "  </thead>\n",
       "  <tbody>\n",
       "    <tr>\n",
       "      <th>1</th>\n",
       "      <td>GoldenEye (1995)</td>\n",
       "    </tr>\n",
       "    <tr>\n",
       "      <th>2</th>\n",
       "      <td>Four Rooms (1995)</td>\n",
       "    </tr>\n",
       "    <tr>\n",
       "      <th>3</th>\n",
       "      <td>Get Shorty (1995)</td>\n",
       "    </tr>\n",
       "    <tr>\n",
       "      <th>4</th>\n",
       "      <td>Copycat (1995)</td>\n",
       "    </tr>\n",
       "    <tr>\n",
       "      <th>6</th>\n",
       "      <td>Twelve Monkeys (1995)</td>\n",
       "    </tr>\n",
       "    <tr>\n",
       "      <th>...</th>\n",
       "      <td>...</td>\n",
       "    </tr>\n",
       "    <tr>\n",
       "      <th>1673</th>\n",
       "      <td>Mamma Roma (1962)</td>\n",
       "    </tr>\n",
       "    <tr>\n",
       "      <th>1674</th>\n",
       "      <td>Sunchaser, The (1996)</td>\n",
       "    </tr>\n",
       "    <tr>\n",
       "      <th>1676</th>\n",
       "      <td>Sweet Nothing (1995)</td>\n",
       "    </tr>\n",
       "    <tr>\n",
       "      <th>1678</th>\n",
       "      <td>B. Monkey (1998)</td>\n",
       "    </tr>\n",
       "    <tr>\n",
       "      <th>1680</th>\n",
       "      <td>You So Crazy (1994)</td>\n",
       "    </tr>\n",
       "  </tbody>\n",
       "</table>\n",
       "<p>1107 rows × 1 columns</p>\n",
       "</div>"
      ],
      "text/plain": [
       "         Recommended Movies\n",
       "1          GoldenEye (1995)\n",
       "2         Four Rooms (1995)\n",
       "3         Get Shorty (1995)\n",
       "4            Copycat (1995)\n",
       "6     Twelve Monkeys (1995)\n",
       "...                     ...\n",
       "1673      Mamma Roma (1962)\n",
       "1674  Sunchaser, The (1996)\n",
       "1676   Sweet Nothing (1995)\n",
       "1678       B. Monkey (1998)\n",
       "1680    You So Crazy (1994)\n",
       "\n",
       "[1107 rows x 1 columns]"
      ]
     },
     "execution_count": 23,
     "metadata": {},
     "output_type": "execute_result"
    }
   ],
   "source": [
    "input_output = np.vstack([movie_title, user_input, output])\n",
    "input_output = pd.DataFrame(input_output)\n",
    "input_output = pd.DataFrame.transpose(input_output)\n",
    "input_output = input_output[input_output.iloc[:, 2] == 1]\n",
    "input_output = input_output[input_output.iloc[:, 1] == -1]\n",
    "input_output = input_output.iloc[:, 0:1]\n",
    "input_output.columns = ['Recommended Movies']\n",
    "input_output"
   ]
  },
  {
   "cell_type": "code",
   "execution_count": null,
   "id": "c93f9647-ff25-4fd1-8c53-88cf181138db",
   "metadata": {},
   "outputs": [],
   "source": []
  }
 ],
 "metadata": {
  "kernelspec": {
   "display_name": "Python 3 (ipykernel)",
   "language": "python",
   "name": "python3"
  },
  "language_info": {
   "codemirror_mode": {
    "name": "ipython",
    "version": 3
   },
   "file_extension": ".py",
   "mimetype": "text/x-python",
   "name": "python",
   "nbconvert_exporter": "python",
   "pygments_lexer": "ipython3",
   "version": "3.9.9"
  }
 },
 "nbformat": 4,
 "nbformat_minor": 5
}
