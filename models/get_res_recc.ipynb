{
 "cells": [
  {
   "cell_type": "code",
   "execution_count": null,
   "metadata": {},
   "outputs": [],
   "source": [
    "from IPython.display import display\n",
    "import ipywidgets as w\n",
    "import pandas as pd\n",
    "import re"
   ]
  },
  {
   "cell_type": "markdown",
   "metadata": {},
   "source": [
    "## User details and Preferences"
   ]
  },
  {
   "cell_type": "code",
   "execution_count": null,
   "metadata": {
    "cell_style": "center"
   },
   "outputs": [],
   "source": [
    "uname = w.Text(description=\"User Name\")\n",
    "place = w.Text(value = 'Country',  description=\"Destination\")\n",
    "budget = w.IntRangeSlider(min=att_df.price.min(), max=att_df.price.max(),step=10,value=[att_df.price.min(),att_df.price.max()],description=\"Budget\")\n",
    "v1 = w.VBox([uname,place,budget])\n",
    "start = w.DatePicker(description='Start Date',disabled=False)\n",
    "end = w.DatePicker(description='End Date',disabled=False)\n",
    "v2 = w.VBox([start,end])\n",
    "out = w.HBox([v1,v2])\n",
    "display(out)"
   ]
  },
  {
   "cell_type": "code",
   "execution_count": null,
   "metadata": {},
   "outputs": [],
   "source": [
    "user_name = re.sub(' ','_',uname.value.lower())\n",
    "country = re.sub(' ','_',place.value.lower())\n",
    "begin_date = start.value\n",
    "end_date = end.value"
   ]
  },
  {
   "cell_type": "markdown",
   "metadata": {},
   "source": [
    "## Model recommendation and filtering"
   ]
  },
  {
   "cell_type": "code",
   "execution_count": null,
   "metadata": {
    "scrolled": true
   },
   "outputs": [],
   "source": [
    "from res_recc import get_recomendation\n",
    "gr = get_recomendation()\n",
    "\n",
    "recom = gr.recc(None)"
   ]
  },
  {
   "cell_type": "code",
   "execution_count": null,
   "metadata": {},
   "outputs": [],
   "source": []
  },
  {
   "cell_type": "code",
   "execution_count": null,
   "metadata": {},
   "outputs": [],
   "source": [
    "# %%capture\n",
    "final = dict()\n",
    "final['timeofday'] = []\n",
    "final['image'] = []\n",
    "final['name'] = []\n",
    "final['location'] = []\n",
    "final['price'] = []\n",
    "final['rating'] = []\n",
    "final['category'] = []\n",
    "\n",
    "# print(with_url)\n",
    "# print(att_df)\n",
    "\n",
    "for i in range(1,(end_date - begin_date).days+2):\n",
    "    for j in range(2):\n",
    "        final['timeofday'].append('Morning')\n",
    "    for j in range(2):\n",
    "        final['timeofday'].append('Evening')\n",
    "# print(\"test\")\n",
    "# print(final['timeofday'])\n",
    "for i in range(len(final['timeofday'])): \n",
    "    if i%4 == 0: \n",
    "        final = top_recc(with_url, final)\n",
    "    else:\n",
    "        final = find_closest(with_url, final['location'][-1],final['timeofday'][i], final)"
   ]
  },
  {
   "cell_type": "markdown",
   "metadata": {},
   "source": [
    "## Final Output"
   ]
  },
  {
   "cell_type": "code",
   "execution_count": null,
   "metadata": {},
   "outputs": [],
   "source": [
    "from attractions_recc import final_output\n",
    "days = (end_date - begin_date).days + 1\n",
    "display(final_output(days,final))"
   ]
  },
  {
   "cell_type": "code",
   "execution_count": null,
   "metadata": {},
   "outputs": [],
   "source": []
  }
 ],
 "metadata": {
  "hide_input": false,
  "kernelspec": {
   "display_name": "Python 3",
   "language": "python",
   "name": "python3"
  },
  "language_info": {
   "codemirror_mode": {
    "name": "ipython",
    "version": 3
   },
   "file_extension": ".py",
   "mimetype": "text/x-python",
   "name": "python",
   "nbconvert_exporter": "python",
   "pygments_lexer": "ipython3",
   "version": "3.9.9"
  }
 },
 "nbformat": 4,
 "nbformat_minor": 2
}
